{
  "nbformat": 4,
  "nbformat_minor": 0,
  "metadata": {
    "colab": {
      "provenance": [],
      "authorship_tag": "ABX9TyO3j+B+MjbNMqsfQ85uIYbY",
      "include_colab_link": true
    },
    "kernelspec": {
      "name": "python3",
      "display_name": "Python 3"
    },
    "language_info": {
      "name": "python"
    }
  },
  "cells": [
    {
      "cell_type": "markdown",
      "metadata": {
        "id": "view-in-github",
        "colab_type": "text"
      },
      "source": [
        "<a href=\"https://colab.research.google.com/github/orodev06/algoritmos-II/blob/main/01_simple_list/other.ipynb\" target=\"_parent\"><img src=\"https://colab.research.google.com/assets/colab-badge.svg\" alt=\"Open In Colab\"/></a>"
      ]
    },
    {
      "cell_type": "code",
      "execution_count": null,
      "metadata": {
        "colab": {
          "base_uri": "https://localhost:8080/"
        },
        "id": "AavRt_Ah0BF0",
        "outputId": "5897977c-75e4-4c84-bb4b-62d89653c475"
      },
      "outputs": [
        {
          "output_type": "stream",
          "name": "stdout",
          "text": [
            "\n",
            "Menu:\n",
            "1. Insertar elemento en la lista\n",
            "2. Mostrar lista\n",
            "3. Salir\n",
            "Seleccione una opción: 1\n",
            "Ingrese el valor a insertar: a\n",
            "Valor a insertado.\n",
            "\n",
            "Menu:\n",
            "1. Insertar elemento en la lista\n",
            "2. Mostrar lista\n",
            "3. Salir\n",
            "Seleccione una opción: 2\n",
            "Contenido de la lista:\n",
            "a \n",
            "\n",
            "Menu:\n",
            "1. Insertar elemento en la lista\n",
            "2. Mostrar lista\n",
            "3. Salir\n",
            "Seleccione una opción: 1\n",
            "Ingrese el valor a insertar: b\n",
            "Valor b insertado.\n",
            "\n",
            "Menu:\n",
            "1. Insertar elemento en la lista\n",
            "2. Mostrar lista\n",
            "3. Salir\n",
            "Seleccione una opción: 1\n",
            "Ingrese el valor a insertar: c\n",
            "Valor c insertado.\n",
            "\n",
            "Menu:\n",
            "1. Insertar elemento en la lista\n",
            "2. Mostrar lista\n",
            "3. Salir\n",
            "Seleccione una opción: 1\n",
            "Ingrese el valor a insertar: d\n",
            "Valor d insertado.\n",
            "\n",
            "Menu:\n",
            "1. Insertar elemento en la lista\n",
            "2. Mostrar lista\n",
            "3. Salir\n",
            "Seleccione una opción: 2\n",
            "Contenido de la lista:\n",
            "a b c d \n",
            "\n",
            "Menu:\n",
            "1. Insertar elemento en la lista\n",
            "2. Mostrar lista\n",
            "3. Salir\n",
            "Seleccione una opción: 3\n",
            "Saliendo del programa.\n"
          ]
        }
      ],
      "source": [
        "class Nodo:\n",
        "    def __init__(self, dato):\n",
        "        self.dato = dato\n",
        "        self.siguiente = None\n",
        "\n",
        "\n",
        "class ListaEnlazada:\n",
        "    def __init__(self):\n",
        "        self.cabeza = None\n",
        "\n",
        "    def insertar(self, dato):\n",
        "        nuevo_nodo = Nodo(dato)\n",
        "        if self.cabeza:\n",
        "            actual = self.cabeza\n",
        "            while actual.siguiente:\n",
        "                actual = actual.siguiente\n",
        "            actual.siguiente = nuevo_nodo\n",
        "        else:\n",
        "            self.cabeza = nuevo_nodo\n",
        "\n",
        "    def imprimir(self):\n",
        "        actual = self.cabeza\n",
        "        while actual:\n",
        "            print(actual.dato, end=' ')\n",
        "            actual = actual.siguiente\n",
        "        print()\n",
        "\n",
        "def main():\n",
        "    lista = ListaEnlazada()\n",
        "    while True:\n",
        "        print(\"\\nMenu:\")\n",
        "        print(\"1. Insertar elemento en la lista\")\n",
        "        print(\"2. Mostrar lista\")\n",
        "        print(\"3. Salir\")\n",
        "        opcion = input(\"Seleccione una opción: \")\n",
        "\n",
        "        if opcion == '1':\n",
        "            dato = input(\"Ingrese el valor a insertar: \")\n",
        "            lista.insertar(dato)\n",
        "            print(f\"Valor {dato} insertado.\")\n",
        "        elif opcion == '2':\n",
        "            print(\"Contenido de la lista:\")\n",
        "            lista.imprimir()\n",
        "        elif opcion == '3':\n",
        "            print(\"Saliendo del programa.\")\n",
        "            break\n",
        "        else:\n",
        "            print(\"Opción no válida. Intente de nuevo.\")\n",
        "\n",
        "if __name__ == \"__main__\":\n",
        "    main()"
      ]
    }
  ]
}